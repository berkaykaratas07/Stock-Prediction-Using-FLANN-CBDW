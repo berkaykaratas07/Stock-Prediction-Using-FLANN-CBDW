{
 "cells": [
  {
   "cell_type": "code",
   "execution_count": 58,
   "id": "initial_id",
   "metadata": {
    "collapsed": true,
    "ExecuteTime": {
     "end_time": "2024-11-04T01:45:53.346238Z",
     "start_time": "2024-11-04T01:45:53.305635300Z"
    }
   },
   "outputs": [],
   "source": [
    "import yfinance as yf\n",
    "import pandas as pd\n",
    "import numpy as np\n",
    "from datetime import timedelta\n",
    "import matplotlib.pyplot as plt\n",
    "from sklearn.model_selection import train_test_split\n",
    "from sklearn.preprocessing import MinMaxScaler\n",
    "import talib\n",
    "from reflame import MhaFlnnRegressor"
   ]
  },
  {
   "cell_type": "code",
   "outputs": [
    {
     "name": "stderr",
     "output_type": "stream",
     "text": [
      "[*********************100%***********************]  1 of 1 completed\n"
     ]
    }
   ],
   "source": [
    "# Step 1: Data Retrieval and Preparation\n",
    "ticks = [\"TUPRS.IS\"]\n",
    "df_list = []\n",
    "\n",
    "for tick in ticks:\n",
    "    df = yf.download(tick, start=pd.to_datetime('today') - timedelta(400), interval='60m')\n",
    "    df['Ticker'] = tick  # Label each ticker\n",
    "    df_list.append(df)\n",
    "\n",
    "df = pd.concat(df_list, axis=0)  # Combine data for all tickers"
   ],
   "metadata": {
    "collapsed": false,
    "ExecuteTime": {
     "end_time": "2024-11-04T01:45:53.626514700Z",
     "start_time": "2024-11-04T01:45:53.320513600Z"
    }
   },
   "id": "a0beb3397306867b",
   "execution_count": 59
  },
  {
   "cell_type": "code",
   "outputs": [],
   "source": [
    "# Ensure 'Close' and 'Volume' columns are of type float64\n",
    "df['Close'] = df['Close'].astype(float)\n",
    "df['Volume'] = df['Volume'].astype(float)\n",
    "\n",
    "# Step 2: Calculation of Technical Indicators\n",
    "\n",
    "# Calculate RSI (Relative Strength Index)\n",
    "df['RSI'] = talib.RSI(df['Close'].values.flatten(), timeperiod=14)\n",
    "\n",
    "# Calculate MAVI (Moving Average Volume Indicator)\n",
    "df['Short_MA'] = talib.SMA(df['Volume'].values.flatten(), timeperiod=5)\n",
    "df['Long_MA'] = talib.SMA(df['Volume'].values.flatten(), timeperiod=20)\n",
    "df['MAVI'] = df['Short_MA'] / df['Long_MA']"
   ],
   "metadata": {
    "collapsed": false,
    "ExecuteTime": {
     "end_time": "2024-11-04T01:45:53.633508600Z",
     "start_time": "2024-11-04T01:45:53.623413Z"
    }
   },
   "id": "b22aae9063478613",
   "execution_count": 60
  },
  {
   "cell_type": "code",
   "outputs": [
    {
     "name": "stdout",
     "output_type": "stream",
     "text": [
      "Price      Ticker  \n",
      "Adj Close  TUPRS.IS     0\n",
      "Close      TUPRS.IS     0\n",
      "High       TUPRS.IS     0\n",
      "Low        TUPRS.IS     0\n",
      "Open       TUPRS.IS     0\n",
      "Volume     TUPRS.IS     0\n",
      "Ticker                  0\n",
      "RSI                    14\n",
      "Short_MA                4\n",
      "Long_MA                19\n",
      "MAVI                   19\n",
      "dtype: int64\n"
     ]
    }
   ],
   "source": [
    "# Step 3: Filling Missing Data\n",
    "\n",
    "# Checking for missing values in each column\n",
    "missing_counts = df.isnull().sum()\n",
    "\n",
    "# Displaying the count of missing values\n",
    "print(missing_counts)"
   ],
   "metadata": {
    "collapsed": false,
    "ExecuteTime": {
     "end_time": "2024-11-04T01:45:53.634540900Z",
     "start_time": "2024-11-04T01:45:53.629960100Z"
    }
   },
   "id": "467e8b6c35a00705",
   "execution_count": 61
  },
  {
   "cell_type": "code",
   "outputs": [
    {
     "name": "stdout",
     "output_type": "stream",
     "text": [
      "Price      Ticker  \n",
      "Adj Close  TUPRS.IS    0\n",
      "Close      TUPRS.IS    0\n",
      "High       TUPRS.IS    0\n",
      "Low        TUPRS.IS    0\n",
      "Open       TUPRS.IS    0\n",
      "Volume     TUPRS.IS    0\n",
      "Ticker                 0\n",
      "RSI                    0\n",
      "Short_MA               0\n",
      "Long_MA                0\n",
      "MAVI                   0\n",
      "dtype: int64\n"
     ]
    },
    {
     "name": "stderr",
     "output_type": "stream",
     "text": [
      "C:\\Users\\Berkay\\AppData\\Local\\Temp\\ipykernel_5552\\1887766667.py:4: FutureWarning: DataFrame.interpolate with object dtype is deprecated and will raise in a future version. Call obj.infer_objects(copy=False) before interpolating instead.\n",
      "  df.interpolate(method='linear', inplace=True)\n"
     ]
    }
   ],
   "source": [
    "# Handling Missing Data with Interpolation\n",
    "\n",
    "# Filling missing values using linear interpolation\n",
    "df.interpolate(method='linear', inplace=True)\n",
    "\n",
    "# Filling any remaining missing values forward and backward\n",
    "df.ffill(inplace=True)  # Forward fill\n",
    "df.bfill(inplace=True)  # Backward fill\n",
    "\n",
    "# Checking to confirm no missing values remain\n",
    "print(df.isnull().sum())\n"
   ],
   "metadata": {
    "collapsed": false,
    "ExecuteTime": {
     "end_time": "2024-11-04T01:45:53.642344Z",
     "start_time": "2024-11-04T01:45:53.634540900Z"
    }
   },
   "id": "8eb980d78645191",
   "execution_count": 62
  },
  {
   "cell_type": "code",
   "outputs": [],
   "source": [
    "# Step 4: Defining Independent and Dependent Variables\n",
    "\n",
    "# Selecting independent variables\n",
    "X = df[['Open', 'RSI', 'MAVI', 'Long_MA']]\n",
    "\n",
    "# Defining the dependent variable\n",
    "y = df['Adj Close']"
   ],
   "metadata": {
    "collapsed": false,
    "ExecuteTime": {
     "end_time": "2024-11-04T01:45:53.664348900Z",
     "start_time": "2024-11-04T01:45:53.640013600Z"
    }
   },
   "id": "d23105eafe5c99c",
   "execution_count": 63
  },
  {
   "cell_type": "code",
   "outputs": [],
   "source": [
    "# Step 5: Splitting Data into Training and Testing Sets (80% Training, 20% Testing)\n",
    "\n",
    "X_train, X_test, y_train, y_test = train_test_split(X, y, test_size=0.2, random_state=42)"
   ],
   "metadata": {
    "collapsed": false,
    "ExecuteTime": {
     "end_time": "2024-11-04T01:45:53.664348900Z",
     "start_time": "2024-11-04T01:45:53.643361500Z"
    }
   },
   "id": "c3cfc5619de6bf8d",
   "execution_count": 64
  },
  {
   "cell_type": "code",
   "outputs": [],
   "source": [
    "# Step 6: Scaling Data (Using MinMaxScaler to scale between 0 and 1)\n",
    "scaler_X = MinMaxScaler(feature_range=(0, 1))  # MinMaxScaler for X\n",
    "scaler_y = MinMaxScaler(feature_range=(0, 1))  # MinMaxScaler for y\n",
    "\n",
    "# Scaling training data\n",
    "X_train_scaled = scaler_X.fit_transform(X_train)\n",
    "y_train_scaled = scaler_y.fit_transform(y_train.values.reshape(-1, 1))\n",
    "\n",
    "# Scaling test data (fit applied only to training set)\n",
    "X_test_scaled = scaler_X.transform(X_test)\n",
    "y_test_scaled = scaler_y.transform(y_test.values.reshape(-1, 1))"
   ],
   "metadata": {
    "collapsed": false,
    "ExecuteTime": {
     "end_time": "2024-11-04T01:45:53.664348900Z",
     "start_time": "2024-11-04T01:45:53.646645700Z"
    }
   },
   "id": "8273d10bfa0269ce",
   "execution_count": 65
  },
  {
   "cell_type": "code",
   "outputs": [],
   "source": [
    "# Define parameters for optimization and model settings\n",
    "# FFA (Firefly Algorithm) is used here as the optimization method\n",
    "opt_paras = {\"name\": \"FFA\", \"epoch\": 20, \"pop_size\": 70}\n",
    "\n",
    "# Initialize the model with specified settings\n",
    "model = MhaFlnnRegressor(\n",
    "    expand_name=\"legendre\",  # Legendre polynomial expansion for feature enhancement \n",
    "    n_funcs=3,\n",
    "    act_name=\"relu\",\n",
    "    obj_name=\"RMSE\",\n",
    "    optimizer=\"OriginalFFA\",  # Firefly Algorithm as the optimizer\n",
    "    optimizer_paras=opt_paras,\n",
    "    verbose=True\n",
    ")"
   ],
   "metadata": {
    "collapsed": false,
    "ExecuteTime": {
     "end_time": "2024-11-04T01:45:53.664348900Z",
     "start_time": "2024-11-04T01:45:53.652657900Z"
    }
   },
   "id": "84d459c6fdb0f112",
   "execution_count": 66
  },
  {
   "cell_type": "code",
   "outputs": [
    {
     "name": "stderr",
     "output_type": "stream",
     "text": [
      "2024/11/04 04:45:53 AM, INFO, mealpy.swarm_based.FFA.OriginalFFA: Solving single objective optimization problem.\n",
      "2024/11/04 04:46:04 AM, INFO, mealpy.swarm_based.FFA.OriginalFFA: >>>Problem: P, Epoch: 1, Current best: 0.12568974336128833, Global best: 0.12568974336128833, Runtime: 10.64532 seconds\n",
      "2024/11/04 04:46:14 AM, INFO, mealpy.swarm_based.FFA.OriginalFFA: >>>Problem: P, Epoch: 2, Current best: 0.12568974336128833, Global best: 0.12568974336128833, Runtime: 10.45364 seconds\n",
      "2024/11/04 04:46:25 AM, INFO, mealpy.swarm_based.FFA.OriginalFFA: >>>Problem: P, Epoch: 3, Current best: 0.12568974336128833, Global best: 0.12568974336128833, Runtime: 10.25715 seconds\n",
      "2024/11/04 04:46:35 AM, INFO, mealpy.swarm_based.FFA.OriginalFFA: >>>Problem: P, Epoch: 4, Current best: 0.12568974336128833, Global best: 0.12568974336128833, Runtime: 10.38749 seconds\n",
      "2024/11/04 04:46:45 AM, INFO, mealpy.swarm_based.FFA.OriginalFFA: >>>Problem: P, Epoch: 5, Current best: 0.12445864445332208, Global best: 0.12445864445332208, Runtime: 10.29916 seconds\n",
      "2024/11/04 04:46:56 AM, INFO, mealpy.swarm_based.FFA.OriginalFFA: >>>Problem: P, Epoch: 6, Current best: 0.12445864445332208, Global best: 0.12445864445332208, Runtime: 10.49242 seconds\n",
      "2024/11/04 04:47:06 AM, INFO, mealpy.swarm_based.FFA.OriginalFFA: >>>Problem: P, Epoch: 7, Current best: 0.12445864445332208, Global best: 0.12445864445332208, Runtime: 10.24923 seconds\n",
      "2024/11/04 04:47:16 AM, INFO, mealpy.swarm_based.FFA.OriginalFFA: >>>Problem: P, Epoch: 8, Current best: 0.12445864445332208, Global best: 0.12445864445332208, Runtime: 10.16821 seconds\n",
      "2024/11/04 04:47:26 AM, INFO, mealpy.swarm_based.FFA.OriginalFFA: >>>Problem: P, Epoch: 9, Current best: 0.12445864445332208, Global best: 0.12445864445332208, Runtime: 10.16267 seconds\n",
      "2024/11/04 04:47:37 AM, INFO, mealpy.swarm_based.FFA.OriginalFFA: >>>Problem: P, Epoch: 10, Current best: 0.12445864445332208, Global best: 0.12445864445332208, Runtime: 10.38961 seconds\n",
      "2024/11/04 04:47:47 AM, INFO, mealpy.swarm_based.FFA.OriginalFFA: >>>Problem: P, Epoch: 11, Current best: 0.12445864445332208, Global best: 0.12445864445332208, Runtime: 10.15790 seconds\n",
      "2024/11/04 04:47:57 AM, INFO, mealpy.swarm_based.FFA.OriginalFFA: >>>Problem: P, Epoch: 12, Current best: 0.12445864445332208, Global best: 0.12445864445332208, Runtime: 10.25795 seconds\n",
      "2024/11/04 04:48:08 AM, INFO, mealpy.swarm_based.FFA.OriginalFFA: >>>Problem: P, Epoch: 13, Current best: 0.12445864445332208, Global best: 0.12445864445332208, Runtime: 10.48783 seconds\n",
      "2024/11/04 04:48:18 AM, INFO, mealpy.swarm_based.FFA.OriginalFFA: >>>Problem: P, Epoch: 14, Current best: 0.12445864445332208, Global best: 0.12445864445332208, Runtime: 10.32853 seconds\n",
      "2024/11/04 04:48:28 AM, INFO, mealpy.swarm_based.FFA.OriginalFFA: >>>Problem: P, Epoch: 15, Current best: 0.12445864445332208, Global best: 0.12445864445332208, Runtime: 10.21034 seconds\n",
      "2024/11/04 04:48:39 AM, INFO, mealpy.swarm_based.FFA.OriginalFFA: >>>Problem: P, Epoch: 16, Current best: 0.12445864445332208, Global best: 0.12445864445332208, Runtime: 10.29341 seconds\n",
      "2024/11/04 04:48:49 AM, INFO, mealpy.swarm_based.FFA.OriginalFFA: >>>Problem: P, Epoch: 17, Current best: 0.12445864445332208, Global best: 0.12445864445332208, Runtime: 10.37647 seconds\n",
      "2024/11/04 04:48:59 AM, INFO, mealpy.swarm_based.FFA.OriginalFFA: >>>Problem: P, Epoch: 18, Current best: 0.08612377622994095, Global best: 0.08612377622994095, Runtime: 10.11695 seconds\n",
      "2024/11/04 04:49:09 AM, INFO, mealpy.swarm_based.FFA.OriginalFFA: >>>Problem: P, Epoch: 19, Current best: 0.08612377622994095, Global best: 0.08612377622994095, Runtime: 10.27206 seconds\n",
      "2024/11/04 04:49:20 AM, INFO, mealpy.swarm_based.FFA.OriginalFFA: >>>Problem: P, Epoch: 20, Current best: 0.07851956740909835, Global best: 0.07851956740909835, Runtime: 10.56909 seconds\n"
     ]
    },
    {
     "data": {
      "text/plain": "MhaFlnnRegressor(act_name='relu', expand_name='legendre', n_funcs=3,\n                 obj_name='RMSE',\n                 optimizer=<mealpy.swarm_based.FFA.OriginalFFA object at 0x00000190CDEE6250>,\n                 optimizer_paras={'epoch': 20, 'name': 'FFA', 'pop_size': 70},\n                 verbose=True)",
      "text/html": "<style>#sk-container-id-4 {\n  /* Definition of color scheme common for light and dark mode */\n  --sklearn-color-text: black;\n  --sklearn-color-line: gray;\n  /* Definition of color scheme for unfitted estimators */\n  --sklearn-color-unfitted-level-0: #fff5e6;\n  --sklearn-color-unfitted-level-1: #f6e4d2;\n  --sklearn-color-unfitted-level-2: #ffe0b3;\n  --sklearn-color-unfitted-level-3: chocolate;\n  /* Definition of color scheme for fitted estimators */\n  --sklearn-color-fitted-level-0: #f0f8ff;\n  --sklearn-color-fitted-level-1: #d4ebff;\n  --sklearn-color-fitted-level-2: #b3dbfd;\n  --sklearn-color-fitted-level-3: cornflowerblue;\n\n  /* Specific color for light theme */\n  --sklearn-color-text-on-default-background: var(--sg-text-color, var(--theme-code-foreground, var(--jp-content-font-color1, black)));\n  --sklearn-color-background: var(--sg-background-color, var(--theme-background, var(--jp-layout-color0, white)));\n  --sklearn-color-border-box: var(--sg-text-color, var(--theme-code-foreground, var(--jp-content-font-color1, black)));\n  --sklearn-color-icon: #696969;\n\n  @media (prefers-color-scheme: dark) {\n    /* Redefinition of color scheme for dark theme */\n    --sklearn-color-text-on-default-background: var(--sg-text-color, var(--theme-code-foreground, var(--jp-content-font-color1, white)));\n    --sklearn-color-background: var(--sg-background-color, var(--theme-background, var(--jp-layout-color0, #111)));\n    --sklearn-color-border-box: var(--sg-text-color, var(--theme-code-foreground, var(--jp-content-font-color1, white)));\n    --sklearn-color-icon: #878787;\n  }\n}\n\n#sk-container-id-4 {\n  color: var(--sklearn-color-text);\n}\n\n#sk-container-id-4 pre {\n  padding: 0;\n}\n\n#sk-container-id-4 input.sk-hidden--visually {\n  border: 0;\n  clip: rect(1px 1px 1px 1px);\n  clip: rect(1px, 1px, 1px, 1px);\n  height: 1px;\n  margin: -1px;\n  overflow: hidden;\n  padding: 0;\n  position: absolute;\n  width: 1px;\n}\n\n#sk-container-id-4 div.sk-dashed-wrapped {\n  border: 1px dashed var(--sklearn-color-line);\n  margin: 0 0.4em 0.5em 0.4em;\n  box-sizing: border-box;\n  padding-bottom: 0.4em;\n  background-color: var(--sklearn-color-background);\n}\n\n#sk-container-id-4 div.sk-container {\n  /* jupyter's `normalize.less` sets `[hidden] { display: none; }`\n     but bootstrap.min.css set `[hidden] { display: none !important; }`\n     so we also need the `!important` here to be able to override the\n     default hidden behavior on the sphinx rendered scikit-learn.org.\n     See: https://github.com/scikit-learn/scikit-learn/issues/21755 */\n  display: inline-block !important;\n  position: relative;\n}\n\n#sk-container-id-4 div.sk-text-repr-fallback {\n  display: none;\n}\n\ndiv.sk-parallel-item,\ndiv.sk-serial,\ndiv.sk-item {\n  /* draw centered vertical line to link estimators */\n  background-image: linear-gradient(var(--sklearn-color-text-on-default-background), var(--sklearn-color-text-on-default-background));\n  background-size: 2px 100%;\n  background-repeat: no-repeat;\n  background-position: center center;\n}\n\n/* Parallel-specific style estimator block */\n\n#sk-container-id-4 div.sk-parallel-item::after {\n  content: \"\";\n  width: 100%;\n  border-bottom: 2px solid var(--sklearn-color-text-on-default-background);\n  flex-grow: 1;\n}\n\n#sk-container-id-4 div.sk-parallel {\n  display: flex;\n  align-items: stretch;\n  justify-content: center;\n  background-color: var(--sklearn-color-background);\n  position: relative;\n}\n\n#sk-container-id-4 div.sk-parallel-item {\n  display: flex;\n  flex-direction: column;\n}\n\n#sk-container-id-4 div.sk-parallel-item:first-child::after {\n  align-self: flex-end;\n  width: 50%;\n}\n\n#sk-container-id-4 div.sk-parallel-item:last-child::after {\n  align-self: flex-start;\n  width: 50%;\n}\n\n#sk-container-id-4 div.sk-parallel-item:only-child::after {\n  width: 0;\n}\n\n/* Serial-specific style estimator block */\n\n#sk-container-id-4 div.sk-serial {\n  display: flex;\n  flex-direction: column;\n  align-items: center;\n  background-color: var(--sklearn-color-background);\n  padding-right: 1em;\n  padding-left: 1em;\n}\n\n\n/* Toggleable style: style used for estimator/Pipeline/ColumnTransformer box that is\nclickable and can be expanded/collapsed.\n- Pipeline and ColumnTransformer use this feature and define the default style\n- Estimators will overwrite some part of the style using the `sk-estimator` class\n*/\n\n/* Pipeline and ColumnTransformer style (default) */\n\n#sk-container-id-4 div.sk-toggleable {\n  /* Default theme specific background. It is overwritten whether we have a\n  specific estimator or a Pipeline/ColumnTransformer */\n  background-color: var(--sklearn-color-background);\n}\n\n/* Toggleable label */\n#sk-container-id-4 label.sk-toggleable__label {\n  cursor: pointer;\n  display: block;\n  width: 100%;\n  margin-bottom: 0;\n  padding: 0.5em;\n  box-sizing: border-box;\n  text-align: center;\n}\n\n#sk-container-id-4 label.sk-toggleable__label-arrow:before {\n  /* Arrow on the left of the label */\n  content: \"▸\";\n  float: left;\n  margin-right: 0.25em;\n  color: var(--sklearn-color-icon);\n}\n\n#sk-container-id-4 label.sk-toggleable__label-arrow:hover:before {\n  color: var(--sklearn-color-text);\n}\n\n/* Toggleable content - dropdown */\n\n#sk-container-id-4 div.sk-toggleable__content {\n  max-height: 0;\n  max-width: 0;\n  overflow: hidden;\n  text-align: left;\n  /* unfitted */\n  background-color: var(--sklearn-color-unfitted-level-0);\n}\n\n#sk-container-id-4 div.sk-toggleable__content.fitted {\n  /* fitted */\n  background-color: var(--sklearn-color-fitted-level-0);\n}\n\n#sk-container-id-4 div.sk-toggleable__content pre {\n  margin: 0.2em;\n  border-radius: 0.25em;\n  color: var(--sklearn-color-text);\n  /* unfitted */\n  background-color: var(--sklearn-color-unfitted-level-0);\n}\n\n#sk-container-id-4 div.sk-toggleable__content.fitted pre {\n  /* unfitted */\n  background-color: var(--sklearn-color-fitted-level-0);\n}\n\n#sk-container-id-4 input.sk-toggleable__control:checked~div.sk-toggleable__content {\n  /* Expand drop-down */\n  max-height: 200px;\n  max-width: 100%;\n  overflow: auto;\n}\n\n#sk-container-id-4 input.sk-toggleable__control:checked~label.sk-toggleable__label-arrow:before {\n  content: \"▾\";\n}\n\n/* Pipeline/ColumnTransformer-specific style */\n\n#sk-container-id-4 div.sk-label input.sk-toggleable__control:checked~label.sk-toggleable__label {\n  color: var(--sklearn-color-text);\n  background-color: var(--sklearn-color-unfitted-level-2);\n}\n\n#sk-container-id-4 div.sk-label.fitted input.sk-toggleable__control:checked~label.sk-toggleable__label {\n  background-color: var(--sklearn-color-fitted-level-2);\n}\n\n/* Estimator-specific style */\n\n/* Colorize estimator box */\n#sk-container-id-4 div.sk-estimator input.sk-toggleable__control:checked~label.sk-toggleable__label {\n  /* unfitted */\n  background-color: var(--sklearn-color-unfitted-level-2);\n}\n\n#sk-container-id-4 div.sk-estimator.fitted input.sk-toggleable__control:checked~label.sk-toggleable__label {\n  /* fitted */\n  background-color: var(--sklearn-color-fitted-level-2);\n}\n\n#sk-container-id-4 div.sk-label label.sk-toggleable__label,\n#sk-container-id-4 div.sk-label label {\n  /* The background is the default theme color */\n  color: var(--sklearn-color-text-on-default-background);\n}\n\n/* On hover, darken the color of the background */\n#sk-container-id-4 div.sk-label:hover label.sk-toggleable__label {\n  color: var(--sklearn-color-text);\n  background-color: var(--sklearn-color-unfitted-level-2);\n}\n\n/* Label box, darken color on hover, fitted */\n#sk-container-id-4 div.sk-label.fitted:hover label.sk-toggleable__label.fitted {\n  color: var(--sklearn-color-text);\n  background-color: var(--sklearn-color-fitted-level-2);\n}\n\n/* Estimator label */\n\n#sk-container-id-4 div.sk-label label {\n  font-family: monospace;\n  font-weight: bold;\n  display: inline-block;\n  line-height: 1.2em;\n}\n\n#sk-container-id-4 div.sk-label-container {\n  text-align: center;\n}\n\n/* Estimator-specific */\n#sk-container-id-4 div.sk-estimator {\n  font-family: monospace;\n  border: 1px dotted var(--sklearn-color-border-box);\n  border-radius: 0.25em;\n  box-sizing: border-box;\n  margin-bottom: 0.5em;\n  /* unfitted */\n  background-color: var(--sklearn-color-unfitted-level-0);\n}\n\n#sk-container-id-4 div.sk-estimator.fitted {\n  /* fitted */\n  background-color: var(--sklearn-color-fitted-level-0);\n}\n\n/* on hover */\n#sk-container-id-4 div.sk-estimator:hover {\n  /* unfitted */\n  background-color: var(--sklearn-color-unfitted-level-2);\n}\n\n#sk-container-id-4 div.sk-estimator.fitted:hover {\n  /* fitted */\n  background-color: var(--sklearn-color-fitted-level-2);\n}\n\n/* Specification for estimator info (e.g. \"i\" and \"?\") */\n\n/* Common style for \"i\" and \"?\" */\n\n.sk-estimator-doc-link,\na:link.sk-estimator-doc-link,\na:visited.sk-estimator-doc-link {\n  float: right;\n  font-size: smaller;\n  line-height: 1em;\n  font-family: monospace;\n  background-color: var(--sklearn-color-background);\n  border-radius: 1em;\n  height: 1em;\n  width: 1em;\n  text-decoration: none !important;\n  margin-left: 1ex;\n  /* unfitted */\n  border: var(--sklearn-color-unfitted-level-1) 1pt solid;\n  color: var(--sklearn-color-unfitted-level-1);\n}\n\n.sk-estimator-doc-link.fitted,\na:link.sk-estimator-doc-link.fitted,\na:visited.sk-estimator-doc-link.fitted {\n  /* fitted */\n  border: var(--sklearn-color-fitted-level-1) 1pt solid;\n  color: var(--sklearn-color-fitted-level-1);\n}\n\n/* On hover */\ndiv.sk-estimator:hover .sk-estimator-doc-link:hover,\n.sk-estimator-doc-link:hover,\ndiv.sk-label-container:hover .sk-estimator-doc-link:hover,\n.sk-estimator-doc-link:hover {\n  /* unfitted */\n  background-color: var(--sklearn-color-unfitted-level-3);\n  color: var(--sklearn-color-background);\n  text-decoration: none;\n}\n\ndiv.sk-estimator.fitted:hover .sk-estimator-doc-link.fitted:hover,\n.sk-estimator-doc-link.fitted:hover,\ndiv.sk-label-container:hover .sk-estimator-doc-link.fitted:hover,\n.sk-estimator-doc-link.fitted:hover {\n  /* fitted */\n  background-color: var(--sklearn-color-fitted-level-3);\n  color: var(--sklearn-color-background);\n  text-decoration: none;\n}\n\n/* Span, style for the box shown on hovering the info icon */\n.sk-estimator-doc-link span {\n  display: none;\n  z-index: 9999;\n  position: relative;\n  font-weight: normal;\n  right: .2ex;\n  padding: .5ex;\n  margin: .5ex;\n  width: min-content;\n  min-width: 20ex;\n  max-width: 50ex;\n  color: var(--sklearn-color-text);\n  box-shadow: 2pt 2pt 4pt #999;\n  /* unfitted */\n  background: var(--sklearn-color-unfitted-level-0);\n  border: .5pt solid var(--sklearn-color-unfitted-level-3);\n}\n\n.sk-estimator-doc-link.fitted span {\n  /* fitted */\n  background: var(--sklearn-color-fitted-level-0);\n  border: var(--sklearn-color-fitted-level-3);\n}\n\n.sk-estimator-doc-link:hover span {\n  display: block;\n}\n\n/* \"?\"-specific style due to the `<a>` HTML tag */\n\n#sk-container-id-4 a.estimator_doc_link {\n  float: right;\n  font-size: 1rem;\n  line-height: 1em;\n  font-family: monospace;\n  background-color: var(--sklearn-color-background);\n  border-radius: 1rem;\n  height: 1rem;\n  width: 1rem;\n  text-decoration: none;\n  /* unfitted */\n  color: var(--sklearn-color-unfitted-level-1);\n  border: var(--sklearn-color-unfitted-level-1) 1pt solid;\n}\n\n#sk-container-id-4 a.estimator_doc_link.fitted {\n  /* fitted */\n  border: var(--sklearn-color-fitted-level-1) 1pt solid;\n  color: var(--sklearn-color-fitted-level-1);\n}\n\n/* On hover */\n#sk-container-id-4 a.estimator_doc_link:hover {\n  /* unfitted */\n  background-color: var(--sklearn-color-unfitted-level-3);\n  color: var(--sklearn-color-background);\n  text-decoration: none;\n}\n\n#sk-container-id-4 a.estimator_doc_link.fitted:hover {\n  /* fitted */\n  background-color: var(--sklearn-color-fitted-level-3);\n}\n</style><div id=\"sk-container-id-4\" class=\"sk-top-container\"><div class=\"sk-text-repr-fallback\"><pre>MhaFlnnRegressor(act_name=&#x27;relu&#x27;, expand_name=&#x27;legendre&#x27;, n_funcs=3,\n                 obj_name=&#x27;RMSE&#x27;,\n                 optimizer=&lt;mealpy.swarm_based.FFA.OriginalFFA object at 0x00000190CDEE6250&gt;,\n                 optimizer_paras={&#x27;epoch&#x27;: 20, &#x27;name&#x27;: &#x27;FFA&#x27;, &#x27;pop_size&#x27;: 70},\n                 verbose=True)</pre><b>In a Jupyter environment, please rerun this cell to show the HTML representation or trust the notebook. <br />On GitHub, the HTML representation is unable to render, please try loading this page with nbviewer.org.</b></div><div class=\"sk-container\" hidden><div class=\"sk-item\"><div class=\"sk-estimator  sk-toggleable\"><input class=\"sk-toggleable__control sk-hidden--visually\" id=\"sk-estimator-id-4\" type=\"checkbox\" checked><label for=\"sk-estimator-id-4\" class=\"sk-toggleable__label  sk-toggleable__label-arrow \">&nbsp;MhaFlnnRegressor<span class=\"sk-estimator-doc-link \">i<span>Not fitted</span></span></label><div class=\"sk-toggleable__content \"><pre>MhaFlnnRegressor(act_name=&#x27;relu&#x27;, expand_name=&#x27;legendre&#x27;, n_funcs=3,\n                 obj_name=&#x27;RMSE&#x27;,\n                 optimizer=&lt;mealpy.swarm_based.FFA.OriginalFFA object at 0x00000190CDEE6250&gt;,\n                 optimizer_paras={&#x27;epoch&#x27;: 20, &#x27;name&#x27;: &#x27;FFA&#x27;, &#x27;pop_size&#x27;: 70},\n                 verbose=True)</pre></div> </div></div></div></div>"
     },
     "execution_count": 67,
     "metadata": {},
     "output_type": "execute_result"
    }
   ],
   "source": [
    "# Step 7: Train the model\n",
    "model.fit(X_train_scaled, y_train_scaled)"
   ],
   "metadata": {
    "collapsed": false,
    "ExecuteTime": {
     "end_time": "2024-11-04T01:49:20.399974900Z",
     "start_time": "2024-11-04T01:45:53.655105400Z"
    }
   },
   "id": "5dea43eae1111168",
   "execution_count": 67
  },
  {
   "cell_type": "code",
   "outputs": [],
   "source": [
    "# Step 8: Make predictions on the test set\n",
    "y_pred_scaled = model.predict(X_test_scaled)"
   ],
   "metadata": {
    "collapsed": false,
    "ExecuteTime": {
     "end_time": "2024-11-04T01:49:20.402953700Z",
     "start_time": "2024-11-04T01:49:20.400994Z"
    }
   },
   "id": "aae3d75c5ff287aa",
   "execution_count": 68
  },
  {
   "cell_type": "code",
   "outputs": [],
   "source": [
    "# Step 9: Inverse scaling of predicted values (return to original scale)\n",
    "y_pred = scaler_y.inverse_transform(y_pred_scaled)"
   ],
   "metadata": {
    "collapsed": false,
    "ExecuteTime": {
     "end_time": "2024-11-04T01:49:20.405213900Z",
     "start_time": "2024-11-04T01:49:20.403953100Z"
    }
   },
   "id": "5f9724cc2a6b1f4e",
   "execution_count": 69
  },
  {
   "cell_type": "code",
   "outputs": [],
   "source": [
    "# Step 10: Evaluate model performance\n",
    "rmse = model.score(X=X_test_scaled, y=y_test_scaled, method=\"RMSE\")\n",
    "metrics = model.scores(X=X_test_scaled, y=y_test_scaled, list_methods=[\"R2\", \"NSE\", \"MAPE\", \"MAE\"])"
   ],
   "metadata": {
    "collapsed": false,
    "ExecuteTime": {
     "end_time": "2024-11-04T01:49:20.409157500Z",
     "start_time": "2024-11-04T01:49:20.406236900Z"
    }
   },
   "id": "5af260738bfe378",
   "execution_count": 70
  },
  {
   "cell_type": "code",
   "outputs": [
    {
     "name": "stdout",
     "output_type": "stream",
     "text": [
      "Results:\n",
      " - RMSE: 0.07539624063940698\n",
      "Additional Metrics:\n",
      " - R2: 0.849202231521006\n",
      " - NSE: 0.849202231521006\n",
      " - MAPE: 21.90%\n",
      " - NNSE: 0.8689624079838953\n",
      " - MAE: 0.0601651724841134\n"
     ]
    }
   ],
   "source": [
    "# Step 11: Display Results\n",
    "print(\"Results:\")\n",
    "print(f\" - RMSE: {rmse}\")\n",
    "\n",
    "# Display additional metrics\n",
    "additional_metrics = model.evaluate(y_true=y_test_scaled, y_pred=y_pred_scaled, list_metrics=[\"R2\", \"NSE\", \"MAPE\", \"NNSE\", \"MAE\"]) \n",
    "print(\"Additional Metrics:\")\n",
    "for metric, value in additional_metrics.items():\n",
    "    # Show MAPE as a percentage\n",
    "    if metric == \"MAPE\":\n",
    "        print(f\" - {metric}: {value * 100:.2f}%\")\n",
    "    else:\n",
    "        print(f\" - {metric}: {value}\")"
   ],
   "metadata": {
    "collapsed": false,
    "ExecuteTime": {
     "end_time": "2024-11-04T01:49:20.412098Z",
     "start_time": "2024-11-04T01:49:20.410154500Z"
    }
   },
   "id": "5610e835cef79cd9",
   "execution_count": 71
  },
  {
   "cell_type": "code",
   "outputs": [
    {
     "name": "stdout",
     "output_type": "stream",
     "text": [
      "['Buy', 'Sell', 'Sell', 'Buy', 'Sell', 'Buy', 'Sell', 'Buy', 'Sell', 'Sell', 'Sell', 'Buy', 'Sell', 'Sell', 'Buy', 'Buy', 'Sell', 'Buy', 'Sell', 'Buy', 'Sell', 'Sell', 'Hold', 'Buy', 'Buy', 'Sell', 'Buy', 'Sell', 'Buy', 'Sell', 'Buy', 'Sell', 'Sell', 'Sell', 'Sell', 'Buy', 'Sell', 'Buy', 'Sell', 'Sell', 'Buy', 'Hold', 'Sell', 'Sell', 'Buy', 'Buy', 'Sell', 'Sell', 'Buy', 'Buy', 'Buy', 'Sell', 'Buy', 'Buy', 'Sell', 'Sell', 'Hold', 'Sell', 'Buy', 'Buy', 'Sell', 'Sell', 'Sell', 'Sell', 'Buy', 'Sell', 'Buy', 'Hold', 'Buy', 'Sell', 'Buy', 'Buy', 'Sell', 'Hold', 'Sell', 'Buy', 'Hold', 'Buy', 'Sell', 'Buy', 'Sell', 'Buy', 'Sell', 'Buy', 'Buy', 'Buy', 'Sell', 'Sell', 'Buy', 'Sell', 'Sell', 'Buy', 'Sell', 'Sell', 'Buy', 'Buy', 'Buy', 'Sell', 'Sell', 'Buy', 'Buy', 'Sell', 'Buy', 'Sell', 'Buy', 'Buy', 'Sell', 'Sell', 'Buy', 'Sell', 'Sell', 'Buy', 'Buy', 'Sell', 'Buy', 'Sell', 'Sell', 'Sell', 'Sell', 'Buy', 'Buy', 'Sell', 'Buy', 'Buy', 'Sell', 'Sell', 'Buy', 'Buy', 'Sell', 'Sell', 'Buy', 'Sell', 'Buy', 'Sell', 'Buy', 'Sell', 'Buy', 'Buy', 'Sell', 'Buy', 'Buy', 'Sell', 'Sell', 'Buy', 'Sell', 'Sell', 'Buy', 'Buy', 'Hold', 'Hold', 'Sell', 'Buy', 'Buy', 'Sell', 'Sell', 'Buy', 'Buy', 'Sell', 'Buy', 'Buy', 'Sell', 'Buy', 'Sell', 'Sell', 'Buy', 'Sell', 'Buy', 'Hold', 'Sell', 'Sell', 'Sell', 'Buy', 'Sell', 'Sell', 'Sell', 'Sell', 'Sell', 'Buy', 'Sell', 'Sell', 'Buy', 'Sell', 'Sell', 'Buy', 'Buy', 'Sell', 'Sell', 'Hold', 'Buy', 'Buy', 'Sell', 'Buy', 'Sell', 'Sell', 'Buy', 'Sell', 'Sell', 'Buy', 'Sell', 'Buy', 'Buy', 'Sell', 'Buy', 'Sell', 'Buy', 'Sell', 'Buy', 'Sell', 'Sell', 'Sell', 'Buy', 'Sell', 'Buy', 'Sell', 'Buy', 'Sell', 'Buy', 'Sell', 'Sell', 'Buy', 'Sell', 'Sell', 'Sell', 'Buy', 'Sell', 'Buy', 'Buy', 'Sell', 'Hold', 'Sell', 'Sell', 'Buy', 'Buy', 'Sell', 'Buy', 'Buy', 'Buy', 'Sell', 'Buy', 'Buy', 'Buy', 'Sell', 'Buy', 'Sell', 'Buy', 'Sell', 'Buy', 'Sell', 'Buy', 'Sell', 'Buy', 'Hold', 'Buy', 'Sell', 'Buy', 'Sell', 'Buy', 'Sell', 'Buy', 'Buy', 'Sell', 'Buy', 'Sell', 'Sell', 'Sell', 'Buy', 'Sell', 'Sell', 'Buy', 'Buy', 'Sell', 'Buy', 'Sell', 'Sell', 'Buy', 'Sell', 'Buy', 'Sell', 'Sell', 'Buy', 'Sell', 'Sell', 'Buy', 'Buy', 'Buy', 'Buy', 'Sell', 'Buy', 'Sell', 'Buy', 'Buy', 'Sell', 'Buy', 'Sell', 'Sell', 'Hold', 'Buy', 'Buy', 'Buy', 'Sell', 'Hold', 'Buy', 'Sell', 'Buy', 'Sell', 'Sell', 'Hold', 'Hold', 'Buy', 'Buy', 'Sell', 'Sell', 'Buy', 'Sell', 'Buy', 'Buy', 'Hold', 'Buy', 'Sell', 'Buy', 'Sell', 'Buy', 'Buy', 'Sell', 'Buy', 'Sell', 'Sell', 'Sell', 'Buy', 'Buy', 'Hold', 'Sell', 'Buy', 'Hold', 'Sell', 'Sell', 'Buy', 'Buy', 'Sell', 'Sell', 'Buy', 'Buy', 'Sell', 'Buy', 'Sell', 'Sell', 'Buy', 'Buy', 'Hold', 'Sell', 'Buy', 'Sell', 'Sell', 'Buy', 'Sell', 'Sell', 'Sell', 'Buy', 'Sell', 'Sell', 'Sell', 'Sell', 'Buy', 'Buy', 'Hold', 'Sell', 'Buy', 'Sell', 'Sell', 'Buy', 'Sell', 'Buy', 'Buy', 'Sell', 'Buy', 'Sell', 'Buy', 'Sell', 'Sell', 'Buy', 'Sell', 'Buy', 'Buy', 'Sell', 'Buy', 'Buy', 'Sell', 'Sell', 'Buy', 'Buy', 'Buy', 'Buy', 'Sell', 'Buy', 'Sell', 'Buy', 'Sell', 'Sell', 'Sell', 'Buy', 'Hold', 'Sell', 'Buy', 'Sell', 'Buy', 'Sell', 'Buy', 'Sell', 'Sell', 'Buy', 'Buy', 'Hold', 'Sell', 'Buy', 'Sell', 'Sell', 'Buy', 'Sell', 'Hold', 'Sell', 'Buy', 'Sell', 'Sell', 'Buy', 'Buy', 'Sell', 'Hold', 'Sell', 'Buy', 'Sell', 'Buy', 'Sell', 'Buy', 'Sell', 'Buy', 'Sell', 'Sell', 'Buy', 'Sell', 'Buy', 'Buy', 'Sell', 'Sell', 'Buy', 'Buy', 'Sell', 'Sell', 'Buy', 'Sell', 'Buy', 'Sell', 'Buy', 'Buy', 'Buy', 'Sell', 'Sell', 'Buy', 'Buy', 'Sell', 'Sell', 'Buy', 'Sell', 'Sell', 'Buy', 'Buy', 'Sell']\n"
     ]
    }
   ],
   "source": [
    "# Step 12: Generate Buy/Sell/Hold points based on FLANN model predictions\n",
    "def generate_buy_sell_hold_points(predictions, real_prices, threshold=0.01):\n",
    "    buy_sell_hold = []\n",
    "    \n",
    "    for i in range(1, len(predictions)):\n",
    "        prev_price = real_prices[i - 1]\n",
    "        predicted_price = predictions[i]\n",
    "        \n",
    "        # If predicted price is 1% higher than the previous close, signal 'Buy'\n",
    "        if predicted_price > prev_price * (1 + threshold):\n",
    "            buy_sell_hold.append(\"Buy\")\n",
    "        \n",
    "        # If predicted price is 1% lower than the previous close, signal 'Sell'\n",
    "        elif predicted_price < prev_price * (1 - threshold):\n",
    "            buy_sell_hold.append(\"Sell\")\n",
    "        \n",
    "        # If difference is within 1%, signal 'Hold'\n",
    "        else:\n",
    "            buy_sell_hold.append(\"Hold\")\n",
    "    \n",
    "    return buy_sell_hold\n",
    "\n",
    "# Get actual prices (original test set values)\n",
    "real_prices = y_test.values\n",
    "\n",
    "# Generate Buy/Sell/Hold decisions based on FLANN model outputs\n",
    "buy_sell_hold_points = generate_buy_sell_hold_points(y_pred, real_prices)\n",
    "\n",
    "# Print the results\n",
    "print(buy_sell_hold_points)"
   ],
   "metadata": {
    "collapsed": false,
    "ExecuteTime": {
     "end_time": "2024-11-04T01:49:20.416540Z",
     "start_time": "2024-11-04T01:49:20.413184400Z"
    }
   },
   "id": "469fe8f242774b0c",
   "execution_count": 72
  },
  {
   "cell_type": "code",
   "outputs": [
    {
     "data": {
      "text/plain": "<Figure size 1400x700 with 1 Axes>",
      "image/png": "[encoded data removed]"
     },
     "metadata": {},
     "output_type": "display_data"
    }
   ],
   "source": [
    "# Plotting the Buy/Sell/Hold points on the real price data for the last 30 days\n",
    "\n",
    "def plot_buy_sell_hold(real_prices, buy_sell_hold_points):\n",
    "    plt.figure(figsize=(14,7))\n",
    "    plt.plot(real_prices[-30:], label=\"Real Price\", color=\"blue\")  # Last 30 days of real prices\n",
    "\n",
    "    # Display Buy and Sell points with different colors\n",
    "    buy_shown = False\n",
    "    sell_shown = False\n",
    "\n",
    "    for i in range(1, len(buy_sell_hold_points[-30:])):  # Last 30 days of Buy/Sell/Hold points\n",
    "        if buy_sell_hold_points[i] == \"Buy\":\n",
    "            plt.scatter(i, real_prices[-30:][i], marker='^', color='green', label=\"Buy\" if not buy_shown else \"\")\n",
    "            buy_shown = True  # Show \"Buy\" label only once\n",
    "        elif buy_sell_hold_points[i] == \"Sell\":\n",
    "            plt.scatter(i, real_prices[-30:][i], marker='v', color='red', label=\"Sell\" if not sell_shown else \"\")\n",
    "            sell_shown = True  # Show \"Sell\" label only once\n",
    "    \n",
    "    # Adjust y-axis range for better visualization\n",
    "    plt.ylim(min(real_prices[-30:]) - 1, max(real_prices[-30:]) + 5)\n",
    "    plt.title(\"Buy/Sell/Hold Points (Last 30 Days) Based on FLANN Model\")\n",
    "    plt.xlabel(\"Day\")\n",
    "    plt.ylabel(\"Price\")\n",
    "    plt.legend()\n",
    "    plt.show()\n",
    "\n",
    "# Plot the graph\n",
    "plot_buy_sell_hold(real_prices, buy_sell_hold_points)"
   ],
   "metadata": {
    "collapsed": false,
    "ExecuteTime": {
     "end_time": "2024-11-04T01:49:20.517752800Z",
     "start_time": "2024-11-04T01:49:20.419593200Z"
    }
   },
   "id": "11bab0b859a2377a",
   "execution_count": 73
  },
  {
   "cell_type": "code",
   "outputs": [
    {
     "data": {
      "text/plain": "    Date  Output FLANN From Buy/Sell Point Output of CBDW Final Decision\n0  Day-1    129.442027                 Buy           None           None\n1  Day-2    193.554084                Sell           None           None\n2  Day-3    180.899236                Sell           None           None\n3  Day-4    130.358753                 Buy           None           None\n4  Day-5    170.159947                Sell           None           None",
      "text/html": "<div>\n<style scoped>\n    .dataframe tbody tr th:only-of-type {\n        vertical-align: middle;\n    }\n\n    .dataframe tbody tr th {\n        vertical-align: top;\n    }\n\n    .dataframe thead th {\n        text-align: right;\n    }\n</style>\n<table border=\"1\" class=\"dataframe\">\n  <thead>\n    <tr style=\"text-align: right;\">\n      <th></th>\n      <th>Date</th>\n      <th>Output FLANN</th>\n      <th>From Buy/Sell Point</th>\n      <th>Output of CBDW</th>\n      <th>Final Decision</th>\n    </tr>\n  </thead>\n  <tbody>\n    <tr>\n      <th>0</th>\n      <td>Day-1</td>\n      <td>129.442027</td>\n      <td>Buy</td>\n      <td>None</td>\n      <td>None</td>\n    </tr>\n    <tr>\n      <th>1</th>\n      <td>Day-2</td>\n      <td>193.554084</td>\n      <td>Sell</td>\n      <td>None</td>\n      <td>None</td>\n    </tr>\n    <tr>\n      <th>2</th>\n      <td>Day-3</td>\n      <td>180.899236</td>\n      <td>Sell</td>\n      <td>None</td>\n      <td>None</td>\n    </tr>\n    <tr>\n      <th>3</th>\n      <td>Day-4</td>\n      <td>130.358753</td>\n      <td>Buy</td>\n      <td>None</td>\n      <td>None</td>\n    </tr>\n    <tr>\n      <th>4</th>\n      <td>Day-5</td>\n      <td>170.159947</td>\n      <td>Sell</td>\n      <td>None</td>\n      <td>None</td>\n    </tr>\n  </tbody>\n</table>\n</div>"
     },
     "execution_count": 74,
     "metadata": {},
     "output_type": "execute_result"
    }
   ],
   "source": [
    "# Create a table for results\n",
    "\n",
    "# Predicted and actual prices (sample data)\n",
    "# y_pred: predicted prices from the model\n",
    "# real_prices: actual prices from the test set\n",
    "\n",
    "# Rescale predicted prices to their original scale\n",
    "y_pred = scaler_y.inverse_transform(y_pred_scaled)  \n",
    "real_prices = y_test.values  # Obtain actual prices\n",
    "\n",
    "# Determine Buy/Sell/Hold points based on predictions\n",
    "buy_sell_hold_points = generate_buy_sell_hold_points(y_pred, real_prices)\n",
    "\n",
    "# Use predictions from FLANN as the output values (FLANN model predictions)\n",
    "output_flann = y_pred.flatten()  # Flattened predicted prices\n",
    "\n",
    "# Create an empty column for CBDW Output (since CBDW model is not implemented, keep it empty)\n",
    "output_cbdw = [None] * len(buy_sell_hold_points)\n",
    "\n",
    "# Create an empty column for Final Decision\n",
    "final_decision = [None] * len(buy_sell_hold_points)\n",
    "\n",
    "# Create a column for days (Day-1, Day-2, ...)\n",
    "days = [f\"Day-{i+1}\" for i in range(len(buy_sell_hold_points))]\n",
    "\n",
    "# Create a DataFrame to organize the output data\n",
    "df = pd.DataFrame({\n",
    "    \"Date\": days,\n",
    "    \"Output FLANN\": output_flann[:len(buy_sell_hold_points)],  # FLANN predictions\n",
    "    \"From Buy/Sell Point\": buy_sell_hold_points,  # Buy/Sell/Hold points\n",
    "    \"Output of CBDW\": output_cbdw,  # Placeholder for CBDW output\n",
    "    \"Final Decision\": final_decision  # Placeholder for final decision\n",
    "})\n",
    "\n",
    "# Display the first few rows of the DataFrame\n",
    "df.head()"
   ],
   "metadata": {
    "collapsed": false,
    "ExecuteTime": {
     "end_time": "2024-11-04T01:49:20.525884300Z",
     "start_time": "2024-11-04T01:49:20.518753100Z"
    }
   },
   "id": "6db37077044cc542",
   "execution_count": 74
  },
  {
   "cell_type": "code",
   "outputs": [
    {
     "name": "stdout",
     "output_type": "stream",
     "text": [
      "  Output of CBDW Final Decision\n",
      "0           None           Hold\n",
      "1           None           Hold\n",
      "2           None           Hold\n",
      "3           None           Hold\n",
      "4           None           Hold\n"
     ]
    }
   ],
   "source": [
    "# Step 13: Implementing Case-Based Dynamic Window (CBDW) to refine Buy/Sell predictions\n",
    "# In this step, Euclidean distance is used to identify similar price patterns in past data, \n",
    "# generating predictions based on the most closely matching past windows.\n",
    "\n",
    "from scipy.spatial.distance import euclidean\n",
    "\n",
    "# Function to calculate Euclidean distance for CBDW implementation\n",
    "def calculate_euclidean_distance(window1, window2):\n",
    "    return euclidean(window1, window2)\n",
    "\n",
    "# Function to find the best matching window in past data using Euclidean distance\n",
    "def cbdw_prediction(past_data, current_window, window_size=5):\n",
    "    min_distance = float('inf')  # Initialize minimum distance with a large value\n",
    "    best_window = None  # Variable to store the best matching window\n",
    "\n",
    "    # Loop through past data to find the best matching window\n",
    "    for i in range(len(past_data) - window_size):\n",
    "        past_window = past_data[i:i + window_size]  # Extract a window from past data\n",
    "        distance = np.linalg.norm(past_window - current_window)  # Calculate distance\n",
    "\n",
    "        # Update the best window if current distance is smaller than the minimum distance\n",
    "        if distance < min_distance:\n",
    "            min_distance = distance\n",
    "            best_window = past_window\n",
    "\n",
    "    # Predict the next value based on the best matching window\n",
    "    if best_window is not None:\n",
    "        next_index = np.where(past_data == best_window[-1])[0][0] + 1  # Find next value index\n",
    "        if next_index < len(past_data):\n",
    "            return past_data[next_index]\n",
    "    \n",
    "    return None  # Return None if no prediction can be made\n",
    "\n",
    "# Function to generate CBDW predictions for the entire dataset\n",
    "def generate_cbdw_points(real_prices, window_size=5):\n",
    "    predictions = []\n",
    "\n",
    "    # Loop through real prices to create windows and generate predictions\n",
    "    for i in range(window_size, len(real_prices)):\n",
    "        current_window = real_prices[i - window_size:i]  # Create a window of current prices\n",
    "        predicted_value = cbdw_prediction(real_prices[:i], current_window, window_size=window_size)  # Make prediction\n",
    "        predictions.append(predicted_value)\n",
    "\n",
    "    return predictions\n",
    "\n",
    "# Real prices (original test set data)\n",
    "real_prices = y_test.values\n",
    "\n",
    "# Generate CBDW predictions\n",
    "cbdw_predictions = generate_cbdw_points(real_prices, window_size=5)\n",
    "\n",
    "# Ensure the DataFrame's row count matches the real prices length\n",
    "if len(df) < len(real_prices):\n",
    "    # Add empty rows if DataFrame is shorter\n",
    "    extra_rows = pd.DataFrame(np.nan, index=range(len(df), len(real_prices)), columns=df.columns)\n",
    "    df = pd.concat([df, extra_rows]).reset_index(drop=True)\n",
    "\n",
    "# Add CBDW predictions to the DataFrame\n",
    "if len(cbdw_predictions) < len(real_prices):\n",
    "    cbdw_predictions = [None] * (len(real_prices) - len(cbdw_predictions)) + cbdw_predictions\n",
    "\n",
    "df[\"Output of CBDW\"] = cbdw_predictions\n",
    "\n",
    "# Final decision based on FLANN and CBDW results\n",
    "for i in range(len(buy_sell_hold_points)):\n",
    "    if buy_sell_hold_points[i] == \"Buy\" or buy_sell_hold_points[i] == \"Sell\":\n",
    "        flann_signal = buy_sell_hold_points[i]\n",
    "        \n",
    "        # Check for None values in cbdw_predictions\n",
    "        if cbdw_predictions[i] is not None and real_prices[i] is not None:\n",
    "            cbdw_signal = \"Buy\" if cbdw_predictions[i] > real_prices[i] else \"Sell\"\n",
    "        else:\n",
    "            cbdw_signal = None  # No action if there's no prediction\n",
    "        \n",
    "        # Set final decision if FLANN and CBDW agree, otherwise Hold\n",
    "        if flann_signal == cbdw_signal:\n",
    "            df.at[i, \"Final Decision\"] = flann_signal\n",
    "        else:\n",
    "            df.at[i, \"Final Decision\"] = \"Hold\"  # Set to Hold if signals don't match\n",
    "\n",
    "# Display final DataFrame with CBDW outputs and final decisions\n",
    "print(df[['Output of CBDW', 'Final Decision']].head())"
   ],
   "metadata": {
    "collapsed": false,
    "ExecuteTime": {
     "end_time": "2024-11-04T01:49:20.736057200Z",
     "start_time": "2024-11-04T01:49:20.525884300Z"
    }
   },
   "id": "783c81d0e7679835",
   "execution_count": 75
  },
  {
   "cell_type": "code",
   "outputs": [
    {
     "data": {
      "text/plain": "      Date  Output FLANN From Buy/Sell Point        Output of CBDW  \\\n0    Day-1    129.442027                 Buy                  None   \n1    Day-2    193.554084                Sell                  None   \n2    Day-3    180.899236                Sell                  None   \n3    Day-4    130.358753                 Buy                  None   \n4    Day-5    170.159947                Sell                  None   \n5    Day-6    162.126297                 Buy                  None   \n6    Day-7    175.482665                Sell   [162.8000030517578]   \n7    Day-8    132.532009                 Buy   [171.6999969482422]   \n8    Day-9    191.554479                Sell   [162.8000030517578]   \n9   Day-10    142.840655                Sell  [140.89999389648438]   \n10  Day-11    135.857142                Sell   [187.8000030517578]   \n11  Day-12    137.421087                 Buy  [140.89999389648438]   \n12  Day-13    162.250733                Sell   [187.8000030517578]   \n13  Day-14    140.925738                Sell  [140.89999389648438]   \n14  Day-15    128.500000                 Buy   [187.8000030517578]   \n15  Day-16    136.118026                 Buy               [130.0]   \n16  Day-17    156.228869                Sell  [164.60000610351562]   \n17  Day-18    149.448193                 Buy  [148.60000610351562]   \n18  Day-19    161.563065                Sell               [130.0]   \n19  Day-20    147.691856                 Buy               [130.0]   \n20  Day-21    171.333920                Sell               [130.0]   \n21  Day-22    142.265454                Sell  [169.89999389648438]   \n22  Day-23    133.043530                Hold   [187.8000030517578]   \n23  Day-24    141.220211                 Buy               [146.5]   \n24  Day-25    156.480279                 Buy  [154.10000610351562]   \n25  Day-26    174.155404                Sell  [150.89999389648438]   \n26  Day-27    157.134044                 Buy   [148.3000030517578]   \n27  Day-28    169.044063                Sell  [169.89999389648438]   \n28  Day-29    146.853836                 Buy   [148.3000030517578]   \n29  Day-30    167.230375                Sell  [142.60000610351562]   \n30  Day-31    149.395406                 Buy   [148.3000030517578]   \n31  Day-32    170.255064                Sell  [165.60000610351562]   \n32  Day-33    165.689584                Sell  [152.60000610351562]   \n33  Day-34    163.253822                Sell   [168.3000030517578]   \n34  Day-35    131.613151                Sell  [165.10000610351562]   \n35  Day-36    133.308204                 Buy  [165.60000610351562]   \n36  Day-37    161.569641                Sell  [150.10000610351562]   \n37  Day-38    155.596646                 Buy               [156.5]   \n38  Day-39    195.341209                Sell   [170.1999969482422]   \n39  Day-40    166.092797                Sell   [162.6999969482422]   \n40  Day-41    143.947305                 Buy               [166.5]   \n41  Day-42    158.951066                Hold   [156.1999969482422]   \n42  Day-43    163.758559                Sell  [165.60000610351562]   \n43  Day-44    146.335731                Sell  [152.60000610351562]   \n44  Day-45    148.788163                 Buy   [156.1999969482422]   \n45  Day-46    159.394450                 Buy  [150.10000610351562]   \n46  Day-47    178.151036                Sell               [156.5]   \n47  Day-48    134.602113                Sell  [165.10000610351562]   \n48  Day-49    128.500000                 Buy  [142.60000610351562]   \n49  Day-50    147.847183                 Buy  [150.10000610351562]   \n\n   Final Decision  \n0            Hold  \n1            Hold  \n2            Hold  \n3            Hold  \n4            Hold  \n5            Hold  \n6            Sell  \n7             Buy  \n8            Sell  \n9            Sell  \n10           Hold  \n11           Hold  \n12           Hold  \n13           Sell  \n14            Buy  \n15           Hold  \n16           Hold  \n17           Hold  \n18           Sell  \n19           Hold  \n20           Sell  \n21           Hold  \n22           None  \n23           Hold  \n24           Hold  \n25           Sell  \n26           Hold  \n27           Hold  \n28           Hold  \n29           Sell  \n30           Hold  \n31           Sell  \n32           Sell  \n33           Hold  \n34           Hold  \n35            Buy  \n36           Sell  \n37           Hold  \n38           Sell  \n39           Sell  \n40            Buy  \n41           None  \n42           Sell  \n43           Hold  \n44            Buy  \n45           Hold  \n46           Sell  \n47           Hold  \n48            Buy  \n49           Hold  ",
      "text/html": "<div>\n<style scoped>\n    .dataframe tbody tr th:only-of-type {\n        vertical-align: middle;\n    }\n\n    .dataframe tbody tr th {\n        vertical-align: top;\n    }\n\n    .dataframe thead th {\n        text-align: right;\n    }\n</style>\n<table border=\"1\" class=\"dataframe\">\n  <thead>\n    <tr style=\"text-align: right;\">\n      <th></th>\n      <th>Date</th>\n      <th>Output FLANN</th>\n      <th>From Buy/Sell Point</th>\n      <th>Output of CBDW</th>\n      <th>Final Decision</th>\n    </tr>\n  </thead>\n  <tbody>\n    <tr>\n      <th>0</th>\n      <td>Day-1</td>\n      <td>129.442027</td>\n      <td>Buy</td>\n      <td>None</td>\n      <td>Hold</td>\n    </tr>\n    <tr>\n      <th>1</th>\n      <td>Day-2</td>\n      <td>193.554084</td>\n      <td>Sell</td>\n      <td>None</td>\n      <td>Hold</td>\n    </tr>\n    <tr>\n      <th>2</th>\n      <td>Day-3</td>\n      <td>180.899236</td>\n      <td>Sell</td>\n      <td>None</td>\n      <td>Hold</td>\n    </tr>\n    <tr>\n      <th>3</th>\n      <td>Day-4</td>\n      <td>130.358753</td>\n      <td>Buy</td>\n      <td>None</td>\n      <td>Hold</td>\n    </tr>\n    <tr>\n      <th>4</th>\n      <td>Day-5</td>\n      <td>170.159947</td>\n      <td>Sell</td>\n      <td>None</td>\n      <td>Hold</td>\n    </tr>\n    <tr>\n      <th>5</th>\n      <td>Day-6</td>\n      <td>162.126297</td>\n      <td>Buy</td>\n      <td>None</td>\n      <td>Hold</td>\n    </tr>\n    <tr>\n      <th>6</th>\n      <td>Day-7</td>\n      <td>175.482665</td>\n      <td>Sell</td>\n      <td>[162.8000030517578]</td>\n      <td>Sell</td>\n    </tr>\n    <tr>\n      <th>7</th>\n      <td>Day-8</td>\n      <td>132.532009</td>\n      <td>Buy</td>\n      <td>[171.6999969482422]</td>\n      <td>Buy</td>\n    </tr>\n    <tr>\n      <th>8</th>\n      <td>Day-9</td>\n      <td>191.554479</td>\n      <td>Sell</td>\n      <td>[162.8000030517578]</td>\n      <td>Sell</td>\n    </tr>\n    <tr>\n      <th>9</th>\n      <td>Day-10</td>\n      <td>142.840655</td>\n      <td>Sell</td>\n      <td>[140.89999389648438]</td>\n      <td>Sell</td>\n    </tr>\n    <tr>\n      <th>10</th>\n      <td>Day-11</td>\n      <td>135.857142</td>\n      <td>Sell</td>\n      <td>[187.8000030517578]</td>\n      <td>Hold</td>\n    </tr>\n    <tr>\n      <th>11</th>\n      <td>Day-12</td>\n      <td>137.421087</td>\n      <td>Buy</td>\n      <td>[140.89999389648438]</td>\n      <td>Hold</td>\n    </tr>\n    <tr>\n      <th>12</th>\n      <td>Day-13</td>\n      <td>162.250733</td>\n      <td>Sell</td>\n      <td>[187.8000030517578]</td>\n      <td>Hold</td>\n    </tr>\n    <tr>\n      <th>13</th>\n      <td>Day-14</td>\n      <td>140.925738</td>\n      <td>Sell</td>\n      <td>[140.89999389648438]</td>\n      <td>Sell</td>\n    </tr>\n    <tr>\n      <th>14</th>\n      <td>Day-15</td>\n      <td>128.500000</td>\n      <td>Buy</td>\n      <td>[187.8000030517578]</td>\n      <td>Buy</td>\n    </tr>\n    <tr>\n      <th>15</th>\n      <td>Day-16</td>\n      <td>136.118026</td>\n      <td>Buy</td>\n      <td>[130.0]</td>\n      <td>Hold</td>\n    </tr>\n    <tr>\n      <th>16</th>\n      <td>Day-17</td>\n      <td>156.228869</td>\n      <td>Sell</td>\n      <td>[164.60000610351562]</td>\n      <td>Hold</td>\n    </tr>\n    <tr>\n      <th>17</th>\n      <td>Day-18</td>\n      <td>149.448193</td>\n      <td>Buy</td>\n      <td>[148.60000610351562]</td>\n      <td>Hold</td>\n    </tr>\n    <tr>\n      <th>18</th>\n      <td>Day-19</td>\n      <td>161.563065</td>\n      <td>Sell</td>\n      <td>[130.0]</td>\n      <td>Sell</td>\n    </tr>\n    <tr>\n      <th>19</th>\n      <td>Day-20</td>\n      <td>147.691856</td>\n      <td>Buy</td>\n      <td>[130.0]</td>\n      <td>Hold</td>\n    </tr>\n    <tr>\n      <th>20</th>\n      <td>Day-21</td>\n      <td>171.333920</td>\n      <td>Sell</td>\n      <td>[130.0]</td>\n      <td>Sell</td>\n    </tr>\n    <tr>\n      <th>21</th>\n      <td>Day-22</td>\n      <td>142.265454</td>\n      <td>Sell</td>\n      <td>[169.89999389648438]</td>\n      <td>Hold</td>\n    </tr>\n    <tr>\n      <th>22</th>\n      <td>Day-23</td>\n      <td>133.043530</td>\n      <td>Hold</td>\n      <td>[187.8000030517578]</td>\n      <td>None</td>\n    </tr>\n    <tr>\n      <th>23</th>\n      <td>Day-24</td>\n      <td>141.220211</td>\n      <td>Buy</td>\n      <td>[146.5]</td>\n      <td>Hold</td>\n    </tr>\n    <tr>\n      <th>24</th>\n      <td>Day-25</td>\n      <td>156.480279</td>\n      <td>Buy</td>\n      <td>[154.10000610351562]</td>\n      <td>Hold</td>\n    </tr>\n    <tr>\n      <th>25</th>\n      <td>Day-26</td>\n      <td>174.155404</td>\n      <td>Sell</td>\n      <td>[150.89999389648438]</td>\n      <td>Sell</td>\n    </tr>\n    <tr>\n      <th>26</th>\n      <td>Day-27</td>\n      <td>157.134044</td>\n      <td>Buy</td>\n      <td>[148.3000030517578]</td>\n      <td>Hold</td>\n    </tr>\n    <tr>\n      <th>27</th>\n      <td>Day-28</td>\n      <td>169.044063</td>\n      <td>Sell</td>\n      <td>[169.89999389648438]</td>\n      <td>Hold</td>\n    </tr>\n    <tr>\n      <th>28</th>\n      <td>Day-29</td>\n      <td>146.853836</td>\n      <td>Buy</td>\n      <td>[148.3000030517578]</td>\n      <td>Hold</td>\n    </tr>\n    <tr>\n      <th>29</th>\n      <td>Day-30</td>\n      <td>167.230375</td>\n      <td>Sell</td>\n      <td>[142.60000610351562]</td>\n      <td>Sell</td>\n    </tr>\n    <tr>\n      <th>30</th>\n      <td>Day-31</td>\n      <td>149.395406</td>\n      <td>Buy</td>\n      <td>[148.3000030517578]</td>\n      <td>Hold</td>\n    </tr>\n    <tr>\n      <th>31</th>\n      <td>Day-32</td>\n      <td>170.255064</td>\n      <td>Sell</td>\n      <td>[165.60000610351562]</td>\n      <td>Sell</td>\n    </tr>\n    <tr>\n      <th>32</th>\n      <td>Day-33</td>\n      <td>165.689584</td>\n      <td>Sell</td>\n      <td>[152.60000610351562]</td>\n      <td>Sell</td>\n    </tr>\n    <tr>\n      <th>33</th>\n      <td>Day-34</td>\n      <td>163.253822</td>\n      <td>Sell</td>\n      <td>[168.3000030517578]</td>\n      <td>Hold</td>\n    </tr>\n    <tr>\n      <th>34</th>\n      <td>Day-35</td>\n      <td>131.613151</td>\n      <td>Sell</td>\n      <td>[165.10000610351562]</td>\n      <td>Hold</td>\n    </tr>\n    <tr>\n      <th>35</th>\n      <td>Day-36</td>\n      <td>133.308204</td>\n      <td>Buy</td>\n      <td>[165.60000610351562]</td>\n      <td>Buy</td>\n    </tr>\n    <tr>\n      <th>36</th>\n      <td>Day-37</td>\n      <td>161.569641</td>\n      <td>Sell</td>\n      <td>[150.10000610351562]</td>\n      <td>Sell</td>\n    </tr>\n    <tr>\n      <th>37</th>\n      <td>Day-38</td>\n      <td>155.596646</td>\n      <td>Buy</td>\n      <td>[156.5]</td>\n      <td>Hold</td>\n    </tr>\n    <tr>\n      <th>38</th>\n      <td>Day-39</td>\n      <td>195.341209</td>\n      <td>Sell</td>\n      <td>[170.1999969482422]</td>\n      <td>Sell</td>\n    </tr>\n    <tr>\n      <th>39</th>\n      <td>Day-40</td>\n      <td>166.092797</td>\n      <td>Sell</td>\n      <td>[162.6999969482422]</td>\n      <td>Sell</td>\n    </tr>\n    <tr>\n      <th>40</th>\n      <td>Day-41</td>\n      <td>143.947305</td>\n      <td>Buy</td>\n      <td>[166.5]</td>\n      <td>Buy</td>\n    </tr>\n    <tr>\n      <th>41</th>\n      <td>Day-42</td>\n      <td>158.951066</td>\n      <td>Hold</td>\n      <td>[156.1999969482422]</td>\n      <td>None</td>\n    </tr>\n    <tr>\n      <th>42</th>\n      <td>Day-43</td>\n      <td>163.758559</td>\n      <td>Sell</td>\n      <td>[165.60000610351562]</td>\n      <td>Sell</td>\n    </tr>\n    <tr>\n      <th>43</th>\n      <td>Day-44</td>\n      <td>146.335731</td>\n      <td>Sell</td>\n      <td>[152.60000610351562]</td>\n      <td>Hold</td>\n    </tr>\n    <tr>\n      <th>44</th>\n      <td>Day-45</td>\n      <td>148.788163</td>\n      <td>Buy</td>\n      <td>[156.1999969482422]</td>\n      <td>Buy</td>\n    </tr>\n    <tr>\n      <th>45</th>\n      <td>Day-46</td>\n      <td>159.394450</td>\n      <td>Buy</td>\n      <td>[150.10000610351562]</td>\n      <td>Hold</td>\n    </tr>\n    <tr>\n      <th>46</th>\n      <td>Day-47</td>\n      <td>178.151036</td>\n      <td>Sell</td>\n      <td>[156.5]</td>\n      <td>Sell</td>\n    </tr>\n    <tr>\n      <th>47</th>\n      <td>Day-48</td>\n      <td>134.602113</td>\n      <td>Sell</td>\n      <td>[165.10000610351562]</td>\n      <td>Hold</td>\n    </tr>\n    <tr>\n      <th>48</th>\n      <td>Day-49</td>\n      <td>128.500000</td>\n      <td>Buy</td>\n      <td>[142.60000610351562]</td>\n      <td>Buy</td>\n    </tr>\n    <tr>\n      <th>49</th>\n      <td>Day-50</td>\n      <td>147.847183</td>\n      <td>Buy</td>\n      <td>[150.10000610351562]</td>\n      <td>Hold</td>\n    </tr>\n  </tbody>\n</table>\n</div>"
     },
     "execution_count": 76,
     "metadata": {},
     "output_type": "execute_result"
    }
   ],
   "source": [
    "# Step 14: Generate a DataFrame combining FLANN and CBDW predictions to make final Buy/Sell/Hold decisions\n",
    "\n",
    "# Predicted and actual prices (sample data)\n",
    "y_pred = scaler_y.inverse_transform(y_pred_scaled)  # Rescale predicted prices to the original scale\n",
    "real_prices = y_test.values  # Retrieve actual prices\n",
    "\n",
    "# Determine Buy/Sell/Hold points based on predictions\n",
    "buy_sell_hold_points = generate_buy_sell_hold_points(y_pred, real_prices)\n",
    "\n",
    "# Use predicted prices as the FLANN output (y_pred)\n",
    "output_flann = y_pred.flatten()  # Flatten the predicted prices\n",
    "\n",
    "# Fill CBDW predictions with None if needed to match the length of real prices\n",
    "if len(cbdw_predictions) < len(real_prices):\n",
    "    cbdw_predictions = [None] * (len(real_prices) - len(cbdw_predictions)) + cbdw_predictions\n",
    "\n",
    "# Initialize an empty list for final decisions\n",
    "final_decision = [None] * len(buy_sell_hold_points)\n",
    "\n",
    "# Calculate final decisions based on FLANN and CBDW signals\n",
    "for i in range(len(buy_sell_hold_points)):\n",
    "    if buy_sell_hold_points[i] in [\"Buy\", \"Sell\"]:\n",
    "        flann_signal = buy_sell_hold_points[i]\n",
    "        \n",
    "        # Compare with CBDW prediction if available\n",
    "        if cbdw_predictions[i] is not None:\n",
    "            cbdw_signal = \"Buy\" if cbdw_predictions[i] > real_prices[i] else \"Sell\"\n",
    "        else:\n",
    "            cbdw_signal = None  # Set to None if no CBDW prediction\n",
    "\n",
    "        # Set final decision if FLANN and CBDW signals agree\n",
    "        if flann_signal == cbdw_signal:\n",
    "            final_decision[i] = flann_signal\n",
    "        else:\n",
    "            final_decision[i] = \"Hold\"  # Set to Hold if signals differ\n",
    "\n",
    "# Ensure all lists are the same length as real_prices\n",
    "max_len = len(real_prices)\n",
    "\n",
    "if len(output_flann) < max_len:\n",
    "    output_flann = np.concatenate((output_flann, [None] * (max_len - len(output_flann))))\n",
    "if len(buy_sell_hold_points) < max_len:\n",
    "    buy_sell_hold_points = buy_sell_hold_points + [None] * (max_len - len(buy_sell_hold_points))\n",
    "if len(final_decision) < max_len:\n",
    "    final_decision = final_decision + [None] * (max_len - len(final_decision))\n",
    "if len(cbdw_predictions) < max_len:\n",
    "    cbdw_predictions = cbdw_predictions + [None] * (max_len - len(cbdw_predictions))\n",
    "\n",
    "# Create a list of days\n",
    "days = [f\"Day-{i+1}\" for i in range(max_len)]\n",
    "\n",
    "# Create a DataFrame to display results\n",
    "df_results = pd.DataFrame({\n",
    "    \"Date\": days,\n",
    "    \"Output FLANN\": output_flann[:max_len],  # FLANN predictions\n",
    "    \"From Buy/Sell Point\": buy_sell_hold_points,  # Buy/Sell/Hold points\n",
    "    \"Output of CBDW\": cbdw_predictions[:max_len],  # CBDW predictions\n",
    "    \"Final Decision\": final_decision[:max_len]  # Final decisions\n",
    "})\n",
    "\n",
    "# Display the first 50 rows of the DataFrame\n",
    "df_results.head(50)\n"
   ],
   "metadata": {
    "collapsed": false,
    "ExecuteTime": {
     "end_time": "2024-11-04T01:49:20.749950300Z",
     "start_time": "2024-11-04T01:49:20.739120100Z"
    }
   },
   "id": "97362c73f7dd5646",
   "execution_count": 76
  }
 ],
 "metadata": {
  "kernelspec": {
   "display_name": "Python 3",
   "language": "python",
   "name": "python3"
  },
  "language_info": {
   "codemirror_mode": {
    "name": "ipython",
    "version": 2
   },
   "file_extension": ".py",
   "mimetype": "text/x-python",
   "name": "python",
   "nbconvert_exporter": "python",
   "pygments_lexer": "ipython2",
   "version": "2.7.6"
  }
 },
 "nbformat": 4,
 "nbformat_minor": 5
}
